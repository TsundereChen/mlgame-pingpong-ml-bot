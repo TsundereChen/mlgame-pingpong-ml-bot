{
 "cells": [
  {
   "cell_type": "code",
   "execution_count": null,
   "metadata": {},
   "outputs": [],
   "source": [
    "# TsundereChen, 2020\n",
    "# Import libraries first...\n",
    "import os\n",
    "import random\n",
    "import pickle\n",
    "\n",
    "from mlgame.communication import ml as comm\n",
    "\n",
    "import pandas as pd\n",
    "import numpy as np\n",
    "import tensorflow as tf\n",
    "from tensorflow.keras.layers import Dense\n",
    "from tensorflow.keras.models import Sequential\n",
    "from tensorflow.keras.layers import DenseFeatures\n",
    "from tensorflow.keras.optimizers import Adam, Nadam, SGD\n",
    "from tensorflow.keras.layers import Dropout\n",
    "import matplotlib.pyplot as plt"
   ]
  },
  {
   "cell_type": "code",
   "execution_count": null,
   "metadata": {},
   "outputs": [],
   "source": [
    "# Create needed variables\n",
    "pickleDir = \"/MLgame/log\"\n",
    "\n",
    "Frame = []\n",
    "Ball_X = []\n",
    "Ball_Y = []\n",
    "Ball_speed_X = []\n",
    "Ball_speed_Y = []\n",
    "Platform_1P_X = []\n",
    "Platform_2P_X = []\n",
    "Blocker_X = []\n",
    "Command_1P = []\n",
    "Command_2P = []\n",
    "Command_1P_LEFT = []\n",
    "Command_1P_NONE = []\n",
    "Command_1P_RIGHT= []\n",
    "Command_2P_LEFT = []\n",
    "Command_2P_NONE = []\n",
    "Command_2P_RIGHT= []\n",
    "\n",
    "selectedFeatures = [\"Ball_X\",\n",
    "             \"Ball_Y\",\n",
    "             \"Ball_speed_X\",\n",
    "             \"Ball_speed_Y\",\n",
    "             \"Platform_1P_X\",\n",
    "             \"Blocker_X\"]\n",
    "selectedTargets = [\"Command_1P\"]"
   ]
  },
  {
   "cell_type": "code",
   "execution_count": null,
   "metadata": {},
   "outputs": [],
   "source": [
    "def movement(command):\n",
    "    if command == \"MOVE_LEFT\":\n",
    "        return 0\n",
    "    elif command == \"MOVE_RIGHT\":\n",
    "        return 2\n",
    "    else: return 1"
   ]
  },
  {
   "cell_type": "code",
   "execution_count": null,
   "metadata": {},
   "outputs": [],
   "source": [
    "def readPickle(filename):\n",
    "    frame = []\n",
    "    ball_x = []\n",
    "    ball_y = []\n",
    "    ball_speed_x = []\n",
    "    ball_speed_y = []\n",
    "    platform_1P_x = []\n",
    "    platform_2P_x = []\n",
    "    blocker_x = []\n",
    "    command_1P = []\n",
    "    command_2P = []\n",
    "    gameLog = pickle.load((open(filename, 'rb')))\n",
    "    for sceneInfo in gameLog:\n",
    "        frame.append(sceneInfo['frame'])\n",
    "        ball_x.append(sceneInfo['ball'][0])\n",
    "        ball_y.append(sceneInfo['ball'][1])\n",
    "        ball_speed_x.append(sceneInfo['ball_speed'][0])\n",
    "        ball_speed_y.append(sceneInfo['ball_speed'][1])\n",
    "        platform_1P_x.append(sceneInfo['platform_1P'][0])\n",
    "        platform_2P_x.append(sceneInfo['platform_2P'][0])\n",
    "        blocker_x.append(sceneInfo['blocker'][0])\n",
    "        command_1P.append(movement(sceneInfo['command_1P']))\n",
    "        command_2P.append(movement(sceneInfo['command_2P']))\n",
    "    return frame, \\\n",
    "           ball_x, \\\n",
    "           ball_y, \\\n",
    "           ball_speed_x, \\\n",
    "           ball_speed_y, \\\n",
    "           platform_1P_x, \\\n",
    "           platform_2P_x, \\\n",
    "           blocker_x, \\\n",
    "           command_1P, \\\n",
    "           command_2P"
   ]
  },
  {
   "cell_type": "code",
   "execution_count": null,
   "metadata": {},
   "outputs": [],
   "source": [
    "def readCommandPickle(filename):\n",
    "    command_1P_LEFT = []\n",
    "    command_1P_NONE = []\n",
    "    command_1P_RIGHT= []\n",
    "    command_2P_LEFT = []\n",
    "    command_2P_NONE = []\n",
    "    command_2P_RIGHT= []\n",
    "    gameLog = pickle.load((open(filename, 'rb')))\n",
    "    for sceneInfo in gameLog:\n",
    "        if movement(sceneInfo['command_1P']) == 0:\n",
    "            command_1P_LEFT.append(1)\n",
    "            command_1P_NONE.append(0)\n",
    "            command_1P_RIGHT.append(0)\n",
    "        elif movement(sceneInfo['command_1P']) ==  1:\n",
    "            command_1P_LEFT.append(0)\n",
    "            command_1P_NONE.append(1)\n",
    "            command_1P_RIGHT.append(0)\n",
    "        elif movement(sceneInfo['command_1P']) ==  2:\n",
    "            command_1P_LEFT.append(0)\n",
    "            command_1P_NONE.append(0)\n",
    "            command_1P_RIGHT.append(1)\n",
    "        if movement(sceneInfo['command_2P']) == 0:\n",
    "            command_2P_LEFT.append(1)\n",
    "            command_2P_NONE.append(0)\n",
    "            command_2P_RIGHT.append(0)\n",
    "        elif movement(sceneInfo['command_2P']) == 1:\n",
    "            command_2P_LEFT.append(0)\n",
    "            command_2P_NONE.append(1)\n",
    "            command_2P_RIGHT.append(0)\n",
    "        elif movement(sceneInfo['command_2P']) == 2:\n",
    "            command_2P_LEFT.append(0)\n",
    "            command_2P_NONE.append(0)\n",
    "            command_2P_RIGHT.append(1)\n",
    "    return command_1P_LEFT, \\\n",
    "           command_1P_NONE, \\\n",
    "           command_1P_RIGHT, \\\n",
    "           command_2P_LEFT, \\\n",
    "           command_2P_NONE, \\\n",
    "           command_2P_RIGHT"
   ]
  },
  {
   "cell_type": "code",
   "execution_count": null,
   "metadata": {},
   "outputs": [],
   "source": [
    "def fileList(path):\n",
    "    return os.listdir(path)"
   ]
  },
  {
   "cell_type": "code",
   "execution_count": null,
   "metadata": {},
   "outputs": [],
   "source": [
    "def importData():\n",
    "    print(\"Importing...\")\n",
    "    global Frame\n",
    "    global Ball_X\n",
    "    global Ball_Y\n",
    "    global Ball_speed_X\n",
    "    global Ball_speed_Y\n",
    "    global Platform_1P_X\n",
    "    global Platform_2P_X\n",
    "    global Blocker_X\n",
    "    global Command_1P\n",
    "    global Command_2P\n",
    "    global Command_1P_LEFT\n",
    "    global Command_1P_NONE\n",
    "    global Command_1P_RIGHT\n",
    "    global Command_2P_LEFT\n",
    "    global Command_2P_NONE\n",
    "    global Command_2P_RIGHT\n",
    "\n",
    "    path = os.path.dirname(os.path.abspath(''))\n",
    "    path = path + pickleDir\n",
    "    files = fileList(path)\n",
    "    for filename in files:\n",
    "        fullpath = path + \"/\" + filename\n",
    "        frame, ball_x, ball_y, ball_speed_x, ball_speed_y, platform_1P_x, platform_2P_x, blocker_x, command_1P, command_2P = readPickle(fullpath)\n",
    "        command_1P_LEFT, command_1P_NONE, command_1P_RIGHT, command_2P_LEFT, command_2P_NONE, command_2P_RIGHT = readCommandPickle(fullpath)\n",
    "        Frame += frame[0:600]\n",
    "        Ball_X += ball_x[0:600]\n",
    "        Ball_Y += ball_y[0:600]\n",
    "        Ball_speed_X += ball_speed_x[0:600]\n",
    "        Ball_speed_Y += ball_speed_y[0:600]\n",
    "        Platform_1P_X += platform_1P_x[0:600]\n",
    "        Platform_2P_X += platform_2P_x[0:600]\n",
    "        Blocker_X += blocker_x[0:600]\n",
    "        Command_1P += command_1P[0:600]\n",
    "        Command_2P += command_2P[0:600]\n",
    "        Command_1P_LEFT += command_1P_LEFT[0:600]\n",
    "        Command_1P_NONE += command_1P_NONE[0:600]\n",
    "        Command_1P_RIGHT += command_1P_RIGHT[0:600]\n",
    "        Command_2P_LEFT += command_2P_LEFT[0:600]\n",
    "        Command_2P_NONE += command_2P_NONE[0:600]\n",
    "        Command_2P_RIGHT += command_2P_RIGHT[0:600]\n",
    "    originalData = pd.DataFrame({'Frame':Frame,\n",
    "        'Ball_X': Ball_X, 'Ball_Y': Ball_Y, 'Ball_speed_X': Ball_speed_X, 'Ball_speed_Y': Ball_speed_Y,\n",
    "        'Platform_1P_X': Platform_1P_X, 'Platform_2P_X': Platform_2P_X, 'Blocker_X': Blocker_X,\n",
    "        'Command_1P': Command_1P, 'Command_2P': Command_2P,\n",
    "        'Command_1P_LEFT': Command_1P_LEFT, 'Command_1P_NONE': Command_1P_NONE, 'Command_1P_RIGHT': Command_1P_RIGHT,\n",
    "        'Command_2P_LEFT': Command_2P_LEFT, 'Command_2P_NONE': Command_2P_NONE, 'Command_2P_RIGHT': Command_2P_RIGHT})\n",
    "    print(\"Import done\")\n",
    "    originalData = originalData.reindex(np.random.permutation(originalData.index))\n",
    "    trainingData = originalData.head(100000)\n",
    "    validateData = originalData.tail(2000)\n",
    "    return trainingData, validateData"
   ]
  },
  {
   "cell_type": "code",
   "execution_count": null,
   "metadata": {},
   "outputs": [],
   "source": [
    "def dataSummary(trainingData, validateData):\n",
    "    print(\"Training samples summary:\")\n",
    "    print(trainingData.describe())\n",
    "    print(\"Test samples summary:\")\n",
    "    print(validateData.describe())"
   ]
  },
  {
   "cell_type": "code",
   "execution_count": null,
   "metadata": {},
   "outputs": [],
   "source": [
    "def featureSelection(trainingData, validateData):\n",
    "    trainingFeatures = trainingData[selectedFeatures]\n",
    "    validateFeatures = validateData[selectedFeatures]\n",
    "    return trainingFeatures, validateFeatures"
   ]
  },
  {
   "cell_type": "code",
   "execution_count": null,
   "metadata": {},
   "outputs": [],
   "source": [
    "def targetSelection(trainingData, validateData):\n",
    "    trainingTargets = trainingData[selectedTargets]\n",
    "    validateTargets = validateData[selectedTargets]\n",
    "    return trainingTargets, validateTargets"
   ]
  },
  {
   "cell_type": "code",
   "execution_count": null,
   "metadata": {},
   "outputs": [],
   "source": [
    "def createFeatureColumns(inputFeatures):\n",
    "    return set([tf.feature_column.numeric_column(my_feature) for my_feature in inputFeatures])"
   ]
  },
  {
   "cell_type": "code",
   "execution_count": null,
   "metadata": {},
   "outputs": [],
   "source": [
    "def createModelSoftmax(learningRate, featureNum):\n",
    "    model = Sequential()\n",
    "    model.add(Dense(units = featureNum, activation=None))\n",
    "    # Hidden layers\n",
    "    model.add(Dense(units = 256, activation='relu'))\n",
    "    model.add(Dense(units = 256, activation='relu'))\n",
    "    model.add(Dense(units = 256, activation='relu'))\n",
    "    model.add(Dropout(rate=0.2))\n",
    "    # Output layer\n",
    "    model.add(Dense(units=3, activation='softmax'))\n",
    "    model.compile(optimizer=Adam(lr=learningRate), loss='sparse_categorical_crossentropy',metrics=['accuracy'])\n",
    "    return model"
   ]
  },
  {
   "cell_type": "code",
   "execution_count": null,
   "metadata": {},
   "outputs": [],
   "source": [
    "def createModelAdam(learningRate, featureNum):\n",
    "    model = Sequential()\n",
    "    model.add(Dense(units = featureNum, activation=None))\n",
    "    # Hidden layers\n",
    "    model.add(Dense(units = 256, activation='relu'))\n",
    "    model.add(Dense(units = 256, activation='relu'))\n",
    "    model.add(Dense(units = 256, activation='relu'))\n",
    "    model.add(Dropout(rate=0.2))\n",
    "    # Output layer\n",
    "    model.add(Dense(units=3, activation='softmax'))\n",
    "    model.compile(optimizer=Adam(lr=learningRate), loss=tf.keras.losses.SparseCategoricalCrossentropy(),metrics=['accuracy'])\n",
    "    return model"
   ]
  },
  {
   "cell_type": "code",
   "execution_count": null,
   "metadata": {},
   "outputs": [],
   "source": [
    "def createModelSGD(learningRate, featureNum):\n",
    "    model = Sequential()\n",
    "    model.add(Dense(units = featureNum, activation=None))\n",
    "    # Hidden layers\n",
    "    model.add(Dense(units = 256, activation='relu'))\n",
    "    model.add(Dense(units = 256, activation='relu'))\n",
    "    model.add(Dense(units = 256, activation='relu'))\n",
    "    model.add(Dropout(rate=0.2))\n",
    "    # Output layer\n",
    "    model.add(Dense(units=3, activation='softmax'))\n",
    "    model.compile(optimizer=SGD(learning_rate=learningRate), loss=tf.keras.losses.CategoricalHinge(),metrics=['accuracy'])\n",
    "    return model"
   ]
  },
  {
   "cell_type": "code",
   "execution_count": null,
   "metadata": {},
   "outputs": [],
   "source": [
    "def createModelNadam(learningRate, featureNum):\n",
    "    model = Sequential()\n",
    "    model.add(Dense(units = featureNum, activation=None))\n",
    "    # Hidden layers\n",
    "    model.add(Dense(units = 256, activation='relu'))\n",
    "    model.add(Dense(units = 256, activation='relu'))\n",
    "    model.add(Dense(units = 256, activation='relu'))\n",
    "    model.add(Dropout(rate=0.2))\n",
    "    # Output layer\n",
    "    model.add(Dense(units=1))\n",
    "    model.compile(optimizer=Nadam(learning_rate=learningRate), loss='mean_squared_error',metrics=['accuracy'])\n",
    "    return model"
   ]
  },
  {
   "cell_type": "code",
   "execution_count": null,
   "metadata": {},
   "outputs": [],
   "source": [
    "def trainModel(model, feature, label, epochs, batchSize=None):\n",
    "    # features = {name:np.array(value) for name, value in feature.items()}\n",
    "    # labels = {name:np.array(value) for name, value in label.items()}\n",
    "    history = model.fit(x = feature, y = label, batch_size = batchSize, epochs = epochs, shuffle = True)\n",
    "    epochs = history.epoch\n",
    "\n",
    "    hist = pd.DataFrame(history.history)\n",
    "    accuracy = hist[\"accuracy\"]\n",
    "    return epochs, accuracy"
   ]
  },
  {
   "cell_type": "code",
   "execution_count": null,
   "metadata": {},
   "outputs": [],
   "source": [
    "def evaluateModel(model, feature, label, batchSize = None):\n",
    "    # features = {name:np.array(value) for name, value in feature.items()}\n",
    "    return model.evaluate(x = feature, y = label, batch_size = batchSize)"
   ]
  },
  {
   "cell_type": "code",
   "execution_count": null,
   "metadata": {},
   "outputs": [],
   "source": [
    "def plotLossCurve(epochs, accuracy):\n",
    "    plt.figure()\n",
    "    plt.xlabel(\"Epoch\")\n",
    "    plt.ylabel(\"Accuracy\")\n",
    "\n",
    "    plt.plot(epochs, accuracy, label=\"Accuracy\")\n",
    "    plt.legend()\n",
    "    plt.ylim([accuracy.min()*0.95, accuracy.max()*1.03])\n",
    "    plt.show()"
   ]
  },
  {
   "cell_type": "code",
   "execution_count": null,
   "metadata": {},
   "outputs": [],
   "source": [
    "trainingData, validateData = importData()\n",
    "# Select features\n",
    "trainingFeatures, validateFeatures = featureSelection(trainingData, validateData)\n",
    "# Select targets\n",
    "trainingTargets, validateTargets   = targetSelection(trainingData, validateData)"
   ]
  },
  {
   "cell_type": "code",
   "execution_count": null,
   "metadata": {},
   "outputs": [],
   "source": [
    "learningRate = 0.01\n",
    "epochs = 100\n",
    "batchSize = 1000\n",
    "\n",
    "featureNum = len(selectedFeatures)\n",
    "\n",
    "#model = createModelSoftmax(learningRate, featureNum)\n",
    "model = createModelAdam(learningRate, featureNum)\n",
    "#model = createModelSGD(learningRate, featureNum)\n",
    "#model = createModelNadam(learningRate, featureNum)\n",
    "\n",
    "\n",
    "\n",
    "epochs, accuracy = trainModel(model, trainingFeatures, trainingTargets, epochs, batchSize)\n",
    "print(model.summary())\n",
    "\n",
    "plotLossCurve(epochs, accuracy)\n",
    "\n",
    "print(\"\\nEvaluate the new model against validation set:\")\n",
    "loss, acc = evaluateModel(model, validateFeatures, validateTargets, batchSize)\n",
    "print(\"\\nLoss: {}\\nAccuracy: {}\".format(loss, acc))"
   ]
  },
  {
   "cell_type": "code",
   "execution_count": null,
   "metadata": {},
   "outputs": [],
   "source": [
    "print(\"Exporting model...\")\n",
    "model.save('saved_model/myModel')"
   ]
  },
  {
   "cell_type": "code",
   "execution_count": null,
   "metadata": {},
   "outputs": [],
   "source": []
  }
 ],
 "metadata": {
  "kernelspec": {
   "display_name": "Python 3",
   "language": "python",
   "name": "python3"
  },
  "language_info": {
   "codemirror_mode": {
    "name": "ipython",
    "version": 3
   },
   "file_extension": ".py",
   "mimetype": "text/x-python",
   "name": "python",
   "nbconvert_exporter": "python",
   "pygments_lexer": "ipython3",
   "version": "3.6.7"
  }
 },
 "nbformat": 4,
 "nbformat_minor": 2
}
